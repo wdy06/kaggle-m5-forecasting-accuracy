{
 "cells": [
  {
   "cell_type": "code",
   "execution_count": 22,
   "metadata": {},
   "outputs": [
    {
     "name": "stdout",
     "output_type": "stream",
     "text": [
      "The autoreload extension is already loaded. To reload it, use:\n",
      "  %reload_ext autoreload\n"
     ]
    }
   ],
   "source": [
    "%load_ext autoreload\n",
    "%autoreload 2\n",
    "from IPython.core.interactiveshell import InteractiveShell\n",
    "InteractiveShell.ast_node_interactivity='all'"
   ]
  },
  {
   "cell_type": "code",
   "execution_count": 101,
   "metadata": {},
   "outputs": [],
   "source": [
    "import numpy as np\n",
    "import pandas as pd\n",
    "from pathlib import Path\n",
    "\n",
    "import sys\n",
    "sys.path.append('../src')\n",
    "\n",
    "import matplotlib.pyplot as plt\n",
    "from tqdm import tqdm\n",
    "\n",
    "import utils\n",
    "from dataset import M5Dataset\n",
    "import preprocessing\n",
    "import features\n",
    "from evaluater import WRMSSEEvaluator\n",
    "import metrics\n",
    "from runner import Runner"
   ]
  },
  {
   "cell_type": "code",
   "execution_count": 30,
   "metadata": {},
   "outputs": [],
   "source": [
    "def reduce_mem_usage_without_date(df):\n",
    "    \"\"\" iterate through all the columns of a dataframe and modify the data type\n",
    "        to reduce memory usage.\n",
    "    \"\"\"\n",
    "    start_mem = df.memory_usage().sum() / 1024**2\n",
    "    print('Memory usage of dataframe is {:.2f} MB'.format(start_mem))\n",
    "    \n",
    "    excludes = ['date']\n",
    "    for col in [col for col in df.columns if col not in ['date']]:\n",
    "        col_type = df[col].dtype\n",
    "\n",
    "        if col_type != object:\n",
    "            c_min = df[col].min()\n",
    "            c_max = df[col].max()\n",
    "            if str(col_type)[:3] == 'int':\n",
    "                if c_min > np.iinfo(np.int8).min and c_max < np.iinfo(np.int8).max:\n",
    "                    df[col] = df[col].astype(np.int8)\n",
    "                elif c_min > np.iinfo(np.int16).min and c_max < np.iinfo(np.int16).max:\n",
    "                    df[col] = df[col].astype(np.int16)\n",
    "                elif c_min > np.iinfo(np.int32).min and c_max < np.iinfo(np.int32).max:\n",
    "                    df[col] = df[col].astype(np.int32)\n",
    "                elif c_min > np.iinfo(np.int64).min and c_max < np.iinfo(np.int64).max:\n",
    "                    df[col] = df[col].astype(np.int64)\n",
    "            else:\n",
    "                if c_min > np.finfo(np.float16).min and c_max < np.finfo(np.float16).max:\n",
    "                    df[col] = df[col].astype(np.float16)\n",
    "                elif c_min > np.finfo(np.float32).min and c_max < np.finfo(np.float32).max:\n",
    "                    df[col] = df[col].astype(np.float32)\n",
    "                else:\n",
    "                    df[col] = df[col].astype(np.float64)\n",
    "        else:\n",
    "            df[col] = df[col].astype('category')\n",
    "\n",
    "    end_mem = df.memory_usage().sum() / 1024**2\n",
    "    print('Memory usage after optimization is: {:.2f} MB'.format(end_mem))\n",
    "    print('Decreased by {:.1f}%'.format(\n",
    "        100 * (start_mem - end_mem) / start_mem))\n",
    "\n",
    "    return df"
   ]
  },
  {
   "cell_type": "code",
   "execution_count": 3,
   "metadata": {},
   "outputs": [],
   "source": [
    "X = utils.load_pickle(utils.FEATURE_DIR / 'baseline_features.pkl')"
   ]
  },
  {
   "cell_type": "code",
   "execution_count": null,
   "metadata": {},
   "outputs": [],
   "source": [
    "X = reduce_mem_usage_without_date(X)"
   ]
  },
  {
   "cell_type": "code",
   "execution_count": 4,
   "metadata": {},
   "outputs": [],
   "source": [
    "model_config = utils.load_yaml(utils.CONFIG_DIR / 'model_configs' / '000_lgbm_baseline.yml')"
   ]
  },
  {
   "cell_type": "code",
   "execution_count": 74,
   "metadata": {},
   "outputs": [],
   "source": [
    "feature_config = utils.load_yaml(utils.CONFIG_DIR / 'feature_configs' / '003_features_list.yml')"
   ]
  },
  {
   "cell_type": "code",
   "execution_count": 6,
   "metadata": {},
   "outputs": [],
   "source": [
    "fold_indices = utils.load_pickle(utils.FEATURE_DIR / 'fold_indices.pkl')"
   ]
  },
  {
   "cell_type": "code",
   "execution_count": 75,
   "metadata": {},
   "outputs": [],
   "source": [
    "all_features = feature_config['features']['original'] + \\\n",
    "        feature_config['features']['generated']\n",
    "TARGET_COL = 'demand'"
   ]
  },
  {
   "cell_type": "code",
   "execution_count": 23,
   "metadata": {},
   "outputs": [],
   "source": [
    "result_dir = Path('../results/20200524013848')"
   ]
  },
  {
   "cell_type": "code",
   "execution_count": 33,
   "metadata": {},
   "outputs": [],
   "source": [
    "X_train = X[(X['date'] <= '2016-04-24')]\n",
    "X_test = X[(X['date'] > '2016-04-24')]"
   ]
  },
  {
   "cell_type": "code",
   "execution_count": 24,
   "metadata": {},
   "outputs": [],
   "source": [
    "runner = Runner(run_name='train_cv',\n",
    "                x=X_train[all_features],\n",
    "                y=X_train[TARGET_COL],\n",
    "                model_cls=model_config['model_class'],\n",
    "                params=model_config,\n",
    "                metrics=metrics.rmse,\n",
    "                save_dir=result_dir,\n",
    "                fold_indices=fold_indices\n",
    "                )"
   ]
  },
  {
   "cell_type": "code",
   "execution_count": 34,
   "metadata": {},
   "outputs": [],
   "source": [
    "preds = runner.run_predict_all(X_test[all_features])"
   ]
  },
  {
   "cell_type": "code",
   "execution_count": 94,
   "metadata": {},
   "outputs": [
    {
     "data": {
      "text/plain": [
       "array(['2016-04-25T00:00:00.000000000', '2016-04-26T00:00:00.000000000',\n",
       "       '2016-04-27T00:00:00.000000000', '2016-04-28T00:00:00.000000000',\n",
       "       '2016-04-29T00:00:00.000000000', '2016-04-30T00:00:00.000000000',\n",
       "       '2016-05-01T00:00:00.000000000', '2016-05-02T00:00:00.000000000',\n",
       "       '2016-05-03T00:00:00.000000000', '2016-05-04T00:00:00.000000000',\n",
       "       '2016-05-05T00:00:00.000000000', '2016-05-06T00:00:00.000000000',\n",
       "       '2016-05-07T00:00:00.000000000', '2016-05-08T00:00:00.000000000',\n",
       "       '2016-05-09T00:00:00.000000000', '2016-05-10T00:00:00.000000000',\n",
       "       '2016-05-11T00:00:00.000000000', '2016-05-12T00:00:00.000000000',\n",
       "       '2016-05-13T00:00:00.000000000', '2016-05-14T00:00:00.000000000',\n",
       "       '2016-05-15T00:00:00.000000000', '2016-05-16T00:00:00.000000000',\n",
       "       '2016-05-17T00:00:00.000000000', '2016-05-18T00:00:00.000000000',\n",
       "       '2016-05-19T00:00:00.000000000', '2016-05-20T00:00:00.000000000',\n",
       "       '2016-05-21T00:00:00.000000000', '2016-05-22T00:00:00.000000000'],\n",
       "      dtype='datetime64[ns]')"
      ]
     },
     "execution_count": 94,
     "metadata": {},
     "output_type": "execute_result"
    }
   ],
   "source": [
    "X.query('date >= \"2016-4-25\"')['date'].unique()"
   ]
  },
  {
   "cell_type": "code",
   "execution_count": 96,
   "metadata": {},
   "outputs": [],
   "source": [
    "test_dates = ['2016-04-25', '2016-04-26', '2016-04-27', '2016-04-28',\n",
    "              '2016-04-29', '2016-04-30', '2016-05-01', '2016-05-02',\n",
    "              '2016-05-03', '2016-05-04', '2016-05-05', '2016-05-06',\n",
    "              '2016-05-07', '2016-05-08',\n",
    "               '2016-05-09', '2016-05-10','2016-05-11', '2016-05-12',\n",
    "               '2016-05-13', '2016-05-14', '2016-05-15', '2016-05-16',\n",
    "               '2016-05-17', '2016-05-18', '2016-05-19', '2016-05-20', '2016-05-21', '2016-05-22']"
   ]
  },
  {
   "cell_type": "code",
   "execution_count": 103,
   "metadata": {},
   "outputs": [],
   "source": [
    "agg_init_date = '2015-10-01'\n",
    "# init_test_date = '2016-04-25'"
   ]
  },
  {
   "cell_type": "code",
   "execution_count": 98,
   "metadata": {},
   "outputs": [],
   "source": [
    "org_feature = feature_config['features']['original'] + ['id', 'all_id', 'date', 'demand']"
   ]
  },
  {
   "cell_type": "code",
   "execution_count": 105,
   "metadata": {},
   "outputs": [],
   "source": [
    "tmp_df = X[agg_init_date < X['date']]"
   ]
  },
  {
   "cell_type": "code",
   "execution_count": null,
   "metadata": {},
   "outputs": [
    {
     "name": "stderr",
     "output_type": "stream",
     "text": [
      "  0%|          | 0/28 [00:00<?, ?it/s]\n",
      "  0%|          | 0/3 [00:00<?, ?it/s]\u001b[A\n",
      " 33%|███▎      | 1/3 [00:13<00:26, 13.29s/it]\u001b[A\n",
      " 67%|██████▋   | 2/3 [00:28<00:13, 13.73s/it]\u001b[A\n",
      "100%|██████████| 3/3 [00:42<00:00, 14.07s/it]\n",
      "\n",
      "  0%|          | 0/3 [00:00<?, ?it/s]\u001b[A\n",
      " 33%|███▎      | 1/3 [01:00<02:00, 60.16s/it]\u001b[A\n",
      " 67%|██████▋   | 2/3 [02:04<01:01, 61.54s/it]\u001b[A\n",
      "100%|██████████| 3/3 [03:17<00:00, 65.91s/it]\n",
      "\n",
      "  0%|          | 0/4 [00:00<?, ?it/s]\u001b[A\n",
      " 25%|██▌       | 1/4 [02:53<08:39, 173.04s/it]\u001b[A\n",
      " 50%|█████     | 2/4 [05:53<05:50, 175.19s/it]\u001b[A\n",
      " 75%|███████▌  | 3/4 [09:08<03:01, 181.17s/it]\u001b[A\n",
      "100%|██████████| 4/4 [12:41<00:00, 190.40s/it]\n",
      "/opt/conda/lib/python3.7/site-packages/pandas/core/indexing.py:966: SettingWithCopyWarning: \n",
      "A value is trying to be set on a copy of a slice from a DataFrame.\n",
      "Try using .loc[row_indexer,col_indexer] = value instead\n",
      "\n",
      "See the caveats in the documentation: https://pandas.pydata.org/pandas-docs/stable/user_guide/indexing.html#returning-a-view-versus-a-copy\n",
      "  self.obj[item] = s\n",
      "  4%|▎         | 1/28 [18:55<8:30:46, 1135.06s/it]\n",
      "  0%|          | 0/3 [00:00<?, ?it/s]\u001b[A\n",
      " 33%|███▎      | 1/3 [00:16<00:32, 16.12s/it]\u001b[A\n",
      " 67%|██████▋   | 2/3 [00:27<00:14, 14.68s/it]\u001b[A\n",
      "100%|██████████| 3/3 [00:43<00:00, 14.52s/it]\n",
      "\n",
      "  0%|          | 0/3 [00:00<?, ?it/s]\u001b[A\n",
      " 33%|███▎      | 1/3 [01:01<02:03, 61.70s/it]\u001b[A\n",
      " 67%|██████▋   | 2/3 [02:05<01:02, 62.39s/it]\u001b[A\n",
      "100%|██████████| 3/3 [03:20<00:00, 66.93s/it]\n",
      "\n",
      "  0%|          | 0/4 [00:00<?, ?it/s]\u001b[A\n",
      " 25%|██▌       | 1/4 [03:00<09:01, 180.59s/it]\u001b[A\n",
      " 50%|█████     | 2/4 [06:02<06:02, 181.04s/it]\u001b[A\n",
      " 75%|███████▌  | 3/4 [09:28<03:08, 188.62s/it]\u001b[A\n",
      "100%|██████████| 4/4 [13:23<00:00, 200.77s/it]\n",
      "  7%|▋         | 2/28 [38:38<8:18:08, 1149.57s/it]\n",
      "  0%|          | 0/3 [00:00<?, ?it/s]\u001b[A\n",
      " 33%|███▎      | 1/3 [00:13<00:27, 13.71s/it]\u001b[A\n",
      " 67%|██████▋   | 2/3 [00:28<00:13, 13.94s/it]\u001b[A\n",
      "100%|██████████| 3/3 [00:39<00:00, 13.33s/it]\n",
      "\n",
      "  0%|          | 0/3 [00:00<?, ?it/s]\u001b[A\n",
      " 33%|███▎      | 1/3 [01:04<02:09, 65.00s/it]\u001b[A\n",
      " 67%|██████▋   | 2/3 [02:08<01:04, 64.59s/it]\u001b[A\n",
      "100%|██████████| 3/3 [03:26<00:00, 68.78s/it]\n",
      "\n",
      "  0%|          | 0/4 [00:00<?, ?it/s]\u001b[A\n",
      " 25%|██▌       | 1/4 [02:59<08:58, 179.42s/it]\u001b[A\n",
      " 50%|█████     | 2/4 [06:15<06:09, 184.56s/it]\u001b[A\n",
      " 75%|███████▌  | 3/4 [09:46<03:12, 192.34s/it]\u001b[A\n",
      "100%|██████████| 4/4 [13:31<00:00, 202.78s/it]\n",
      " 11%|█         | 3/28 [58:22<8:03:19, 1160.00s/it]\n",
      "  0%|          | 0/3 [00:00<?, ?it/s]\u001b[A\n",
      " 33%|███▎      | 1/3 [00:16<00:33, 16.86s/it]\u001b[A\n",
      " 67%|██████▋   | 2/3 [00:28<00:15, 15.28s/it]\u001b[A\n",
      "100%|██████████| 3/3 [00:43<00:00, 14.38s/it]\n",
      "\n",
      "  0%|          | 0/3 [00:00<?, ?it/s]\u001b[A\n",
      " 33%|███▎      | 1/3 [00:58<01:57, 58.67s/it]\u001b[A\n",
      " 67%|██████▋   | 2/3 [02:05<01:01, 61.22s/it]\u001b[A\n",
      "100%|██████████| 3/3 [03:17<00:00, 65.84s/it]\n",
      "\n",
      "  0%|          | 0/4 [00:00<?, ?it/s]\u001b[A\n",
      " 50%|█████     | 2/4 [06:05<05:56, 178.18s/it]\u001b[A\n",
      " 75%|███████▌  | 3/4 [09:17<03:02, 182.36s/it]\u001b[A\n",
      "100%|██████████| 4/4 [13:01<00:00, 195.40s/it]\n",
      " 14%|█▍        | 4/28 [1:17:37<7:43:18, 1158.26s/it]\n",
      "  0%|          | 0/3 [00:00<?, ?it/s]\u001b[A\n",
      " 33%|███▎      | 1/3 [00:14<00:28, 14.22s/it]\u001b[A\n",
      " 67%|██████▋   | 2/3 [00:29<00:14, 14.39s/it]\u001b[A\n",
      "100%|██████████| 3/3 [00:42<00:00, 14.04s/it]\n",
      "\n",
      "  0%|          | 0/3 [00:00<?, ?it/s]\u001b[A\n",
      " 33%|███▎      | 1/3 [01:00<02:00, 60.40s/it]\u001b[A\n",
      " 67%|██████▋   | 2/3 [02:13<01:04, 64.22s/it]\u001b[A\n",
      "100%|██████████| 3/3 [03:30<00:00, 70.14s/it]\n",
      "\n",
      "  0%|          | 0/4 [00:00<?, ?it/s]\u001b[A\n",
      " 25%|██▌       | 1/4 [03:01<09:05, 181.83s/it]\u001b[A\n",
      " 50%|█████     | 2/4 [06:19<06:13, 186.70s/it]\u001b[A\n",
      " 75%|███████▌  | 3/4 [09:41<03:11, 191.31s/it]\u001b[A\n",
      "100%|██████████| 4/4 [13:16<00:00, 199.12s/it]\n",
      " 18%|█▊        | 5/28 [1:37:18<7:26:40, 1165.25s/it]\n",
      "  0%|          | 0/3 [00:00<?, ?it/s]\u001b[A\n",
      " 33%|███▎      | 1/3 [00:14<00:29, 14.60s/it]\u001b[A\n",
      " 67%|██████▋   | 2/3 [00:27<00:13, 13.96s/it]\u001b[A\n",
      "100%|██████████| 3/3 [00:38<00:00, 12.91s/it]\n",
      "\n",
      "  0%|          | 0/3 [00:00<?, ?it/s]\u001b[A\n",
      " 33%|███▎      | 1/3 [01:04<02:08, 64.01s/it]\u001b[A\n",
      " 67%|██████▋   | 2/3 [02:06<01:03, 63.47s/it]\u001b[A\n",
      "100%|██████████| 3/3 [03:22<00:00, 67.37s/it]\n",
      "\n",
      "  0%|          | 0/4 [00:00<?, ?it/s]\u001b[A\n",
      " 25%|██▌       | 1/4 [03:07<09:23, 187.91s/it]\u001b[A\n",
      " 50%|█████     | 2/4 [06:19<06:17, 189.00s/it]\u001b[A\n",
      " 75%|███████▌  | 3/4 [09:49<03:15, 195.38s/it]\u001b[A\n",
      "100%|██████████| 4/4 [13:32<00:00, 203.21s/it]\n",
      " 21%|██▏       | 6/28 [1:56:59<7:08:57, 1169.89s/it]\n",
      "  0%|          | 0/3 [00:00<?, ?it/s]\u001b[A\n",
      " 33%|███▎      | 1/3 [00:13<00:27, 13.75s/it]\u001b[A\n",
      " 67%|██████▋   | 2/3 [00:25<00:13, 13.07s/it]\u001b[A\n",
      "100%|██████████| 3/3 [00:36<00:00, 12.33s/it]\n",
      "\n",
      "  0%|          | 0/3 [00:00<?, ?it/s]\u001b[A\n",
      " 33%|███▎      | 1/3 [01:02<02:05, 62.85s/it]\u001b[A\n",
      " 67%|██████▋   | 2/3 [02:11<01:04, 64.68s/it]\u001b[A\n",
      "100%|██████████| 3/3 [03:37<00:00, 72.36s/it]\n",
      "\n",
      "  0%|          | 0/4 [00:00<?, ?it/s]\u001b[A\n",
      " 25%|██▌       | 1/4 [03:02<09:07, 182.51s/it]\u001b[A\n",
      " 50%|█████     | 2/4 [06:24<06:16, 188.21s/it]\u001b[A\n",
      " 75%|███████▌  | 3/4 [09:59<03:16, 196.43s/it]\u001b[A\n",
      "100%|██████████| 4/4 [13:38<00:00, 204.62s/it]\n",
      " 25%|██▌       | 7/28 [2:16:59<6:52:40, 1179.08s/it]\n",
      "  0%|          | 0/3 [00:00<?, ?it/s]\u001b[A\n",
      " 33%|███▎      | 1/3 [00:17<00:35, 17.52s/it]\u001b[A\n",
      " 67%|██████▋   | 2/3 [00:30<00:16, 16.20s/it]\u001b[A\n",
      "100%|██████████| 3/3 [00:44<00:00, 14.72s/it]\n",
      "\n",
      "  0%|          | 0/3 [00:00<?, ?it/s]\u001b[A\n",
      " 33%|███▎      | 1/3 [01:06<02:12, 66.18s/it]\u001b[A\n",
      " 67%|██████▋   | 2/3 [02:27<01:10, 70.72s/it]\u001b[A\n",
      "100%|██████████| 3/3 [03:48<00:00, 76.15s/it]\n",
      "\n",
      "  0%|          | 0/4 [00:00<?, ?it/s]\u001b[A\n",
      " 25%|██▌       | 1/4 [03:13<09:39, 193.22s/it]\u001b[A\n",
      " 50%|█████     | 2/4 [06:38<06:33, 196.95s/it]\u001b[A\n",
      " 75%|███████▌  | 3/4 [09:57<03:17, 197.51s/it]\u001b[A\n",
      "100%|██████████| 4/4 [13:38<00:00, 204.70s/it]\n",
      " 29%|██▊       | 8/28 [2:37:17<6:36:53, 1190.66s/it]\n",
      "  0%|          | 0/3 [00:00<?, ?it/s]\u001b[A\n",
      " 33%|███▎      | 1/3 [00:18<00:36, 18.15s/it]\u001b[A\n",
      " 67%|██████▋   | 2/3 [00:31<00:16, 16.82s/it]\u001b[A\n",
      "100%|██████████| 3/3 [00:46<00:00, 15.46s/it]\n",
      "\n",
      "  0%|          | 0/3 [00:00<?, ?it/s]\u001b[A\n",
      " 33%|███▎      | 1/3 [01:03<02:07, 63.50s/it]\u001b[A\n",
      " 67%|██████▋   | 2/3 [02:13<01:05, 65.50s/it]\u001b[A\n",
      "100%|██████████| 3/3 [03:40<00:00, 73.45s/it]\n",
      "\n",
      "  0%|          | 0/4 [00:00<?, ?it/s]\u001b[A\n",
      " 25%|██▌       | 1/4 [02:59<08:59, 179.98s/it]\u001b[A\n",
      " 50%|█████     | 2/4 [06:19<06:11, 185.87s/it]\u001b[A\n",
      " 75%|███████▌  | 3/4 [09:56<03:15, 195.17s/it]\u001b[A\n",
      "100%|██████████| 4/4 [13:33<00:00, 203.42s/it]\n",
      " 32%|███▏      | 9/28 [2:57:28<6:19:01, 1196.90s/it]\n",
      "  0%|          | 0/3 [00:00<?, ?it/s]\u001b[A\n",
      " 33%|███▎      | 1/3 [00:14<00:28, 14.38s/it]\u001b[A\n",
      " 67%|██████▋   | 2/3 [00:27<00:13, 13.89s/it]\u001b[A\n",
      "100%|██████████| 3/3 [00:40<00:00, 13.65s/it]\n",
      "\n",
      "  0%|          | 0/3 [00:00<?, ?it/s]\u001b[A\n",
      " 33%|███▎      | 1/3 [01:07<02:15, 67.78s/it]\u001b[A\n",
      " 67%|██████▋   | 2/3 [02:28<01:11, 71.80s/it]\u001b[A\n",
      "100%|██████████| 3/3 [03:51<00:00, 77.07s/it]\n",
      "\n",
      "  0%|          | 0/4 [00:00<?, ?it/s]\u001b[A\n",
      " 25%|██▌       | 1/4 [03:10<09:30, 190.02s/it]\u001b[A\n",
      " 50%|█████     | 2/4 [06:28<06:25, 192.67s/it]\u001b[A\n",
      " 75%|███████▌  | 3/4 [09:59<03:18, 198.17s/it]\u001b[A\n",
      "100%|██████████| 4/4 [13:40<00:00, 205.15s/it]\n",
      " 36%|███▌      | 10/28 [3:17:48<6:01:06, 1203.70s/it]\n",
      "  0%|          | 0/3 [00:00<?, ?it/s]\u001b[A\n",
      " 33%|███▎      | 1/3 [00:14<00:29, 14.74s/it]\u001b[A\n",
      " 67%|██████▋   | 2/3 [00:27<00:14, 14.03s/it]\u001b[A\n",
      "100%|██████████| 3/3 [00:41<00:00, 13.93s/it]\n",
      "\n",
      "  0%|          | 0/3 [00:00<?, ?it/s]\u001b[A\n",
      " 33%|███▎      | 1/3 [01:09<02:19, 69.85s/it]\u001b[A\n",
      " 67%|██████▋   | 2/3 [02:23<01:11, 71.13s/it]\u001b[A\n",
      "100%|██████████| 3/3 [04:01<00:00, 80.42s/it]\n",
      "\n",
      "  0%|          | 0/4 [00:00<?, ?it/s]\u001b[A\n",
      " 25%|██▌       | 1/4 [03:06<09:18, 186.11s/it]\u001b[A\n",
      " 50%|█████     | 2/4 [06:34<06:25, 192.91s/it]\u001b[A\n",
      " 75%|███████▌  | 3/4 [10:09<03:19, 199.48s/it]\u001b[A\n",
      "100%|██████████| 4/4 [14:14<00:00, 213.57s/it]\n",
      " 39%|███▉      | 11/28 [3:38:55<5:46:26, 1222.72s/it]\n",
      "  0%|          | 0/3 [00:00<?, ?it/s]\u001b[A\n",
      " 33%|███▎      | 1/3 [00:14<00:28, 14.24s/it]\u001b[A\n",
      " 67%|██████▋   | 2/3 [00:26<00:13, 13.63s/it]\u001b[A\n",
      "100%|██████████| 3/3 [00:40<00:00, 13.59s/it]\n",
      "\n",
      "  0%|          | 0/3 [00:00<?, ?it/s]\u001b[A\n",
      " 33%|███▎      | 1/3 [01:09<02:19, 69.77s/it]\u001b[A\n",
      " 67%|██████▋   | 2/3 [02:35<01:14, 74.66s/it]\u001b[A\n",
      "100%|██████████| 3/3 [04:01<00:00, 80.44s/it]\n",
      "\n",
      "  0%|          | 0/4 [00:00<?, ?it/s]\u001b[A\n",
      " 25%|██▌       | 1/4 [03:20<10:02, 200.91s/it]\u001b[A\n",
      " 50%|█████     | 2/4 [06:46<06:44, 202.36s/it]\u001b[A\n",
      " 75%|███████▌  | 3/4 [10:30<03:28, 208.69s/it]\u001b[A\n",
      "100%|██████████| 4/4 [14:09<00:00, 212.30s/it]\n",
      " 43%|████▎     | 12/28 [3:59:50<5:28:38, 1232.38s/it]\n",
      "  0%|          | 0/3 [00:00<?, ?it/s]\u001b[A\n",
      " 33%|███▎      | 1/3 [00:14<00:29, 14.58s/it]\u001b[A\n",
      " 67%|██████▋   | 2/3 [00:27<00:13, 13.97s/it]\u001b[A\n",
      "100%|██████████| 3/3 [00:41<00:00, 13.77s/it]\n",
      "\n",
      "  0%|          | 0/3 [00:00<?, ?it/s]\u001b[A\n",
      " 33%|███▎      | 1/3 [01:09<02:19, 69.73s/it]\u001b[A\n",
      " 67%|██████▋   | 2/3 [02:32<01:13, 73.57s/it]\u001b[A\n",
      "100%|██████████| 3/3 [04:04<00:00, 81.41s/it]\n",
      "\n",
      "  0%|          | 0/4 [00:00<?, ?it/s]\u001b[A\n",
      " 25%|██▌       | 1/4 [03:08<09:25, 188.58s/it]\u001b[A\n",
      " 50%|█████     | 2/4 [06:35<06:28, 194.04s/it]\u001b[A\n",
      " 75%|███████▌  | 3/4 [10:05<03:18, 198.91s/it]\u001b[A\n",
      "100%|██████████| 4/4 [13:49<00:00, 207.26s/it]\n",
      " 46%|████▋     | 13/28 [4:20:47<5:09:54, 1239.62s/it]\n",
      "  0%|          | 0/3 [00:00<?, ?it/s]\u001b[A\n",
      " 33%|███▎      | 1/3 [00:14<00:29, 14.74s/it]\u001b[A\n",
      " 67%|██████▋   | 2/3 [00:27<00:14, 14.26s/it]\u001b[A\n",
      "100%|██████████| 3/3 [00:40<00:00, 13.67s/it]\n",
      "\n",
      "  0%|          | 0/3 [00:00<?, ?it/s]\u001b[A\n",
      " 33%|███▎      | 1/3 [01:07<02:15, 67.73s/it]\u001b[A\n",
      " 67%|██████▋   | 2/3 [02:31<01:12, 72.54s/it]\u001b[A\n",
      "100%|██████████| 3/3 [04:05<00:00, 81.85s/it]\n",
      "\n",
      "  0%|          | 0/4 [00:00<?, ?it/s]\u001b[A\n",
      " 25%|██▌       | 1/4 [03:14<09:42, 194.13s/it]\u001b[A\n",
      " 50%|█████     | 2/4 [06:32<06:30, 195.48s/it]\u001b[A\n",
      " 75%|███████▌  | 3/4 [10:09<03:21, 201.97s/it]\u001b[A\n",
      "100%|██████████| 4/4 [14:01<00:00, 210.32s/it]\n",
      " 50%|█████     | 14/28 [4:41:48<4:50:46, 1246.17s/it]\n",
      "  0%|          | 0/3 [00:00<?, ?it/s]\u001b[A\n",
      " 33%|███▎      | 1/3 [00:14<00:29, 14.75s/it]\u001b[A\n",
      " 67%|██████▋   | 2/3 [00:24<00:13, 13.15s/it]\u001b[A\n",
      "100%|██████████| 3/3 [00:39<00:00, 13.03s/it]\n",
      "\n",
      "  0%|          | 0/3 [00:00<?, ?it/s]\u001b[A"
     ]
    }
   ],
   "source": [
    "for test_date in tqdm(test_dates):\n",
    "    pred_tmp_df = tmp_df[tmp_df['date']<= test_date][org_feature].copy()\n",
    "    tmp_feat = features.generate_features(pred_tmp_df)\n",
    "    pred_tmp_df = pd.concat([pred_tmp_df, tmp_feat], axis=1)\n",
    "    preds = runner.run_predict_all(pred_tmp_df[pred_tmp_df['date'] == test_date][all_features])\n",
    "#     tmp_df[tmp_df['date']==test_date]['demand'] = preds\n",
    "    row_indexer = tmp_df[tmp_df['date']==test_date].index\n",
    "    tmp_df.loc[row_indexer, 'demand'] = preds"
   ]
  },
  {
   "cell_type": "code",
   "execution_count": 79,
   "metadata": {},
   "outputs": [
    {
     "name": "stderr",
     "output_type": "stream",
     "text": [
      "100%|██████████| 3/3 [00:52<00:00, 17.38s/it]\n",
      "100%|██████████| 3/3 [04:40<00:00, 93.64s/it]\n",
      "100%|██████████| 4/4 [16:35<00:00, 248.79s/it]\n"
     ]
    }
   ],
   "source": [
    "tmp_feat = features.generate_features(tmp_df)"
   ]
  },
  {
   "cell_type": "code",
   "execution_count": 80,
   "metadata": {},
   "outputs": [],
   "source": [
    "tmp_df = pd.concat([tmp_df, tmp_feat], axis=1)"
   ]
  },
  {
   "cell_type": "code",
   "execution_count": 85,
   "metadata": {},
   "outputs": [],
   "source": [
    "preds = runner.run_predict_all(tmp_df[tmp_df['date'] == '2016-4-24'][all_features])"
   ]
  },
  {
   "cell_type": "code",
   "execution_count": 91,
   "metadata": {},
   "outputs": [
    {
     "name": "stderr",
     "output_type": "stream",
     "text": [
      "/opt/conda/lib/python3.7/site-packages/ipykernel_launcher.py:1: SettingWithCopyWarning: \n",
      "A value is trying to be set on a copy of a slice from a DataFrame.\n",
      "Try using .loc[row_indexer,col_indexer] = value instead\n",
      "\n",
      "See the caveats in the documentation: https://pandas.pydata.org/pandas-docs/stable/user_guide/indexing.html#returning-a-view-versus-a-copy\n",
      "  \"\"\"Entry point for launching an IPython kernel.\n"
     ]
    }
   ],
   "source": [
    "tmp_df[tmp_df['date']=='2016-4-24']['demand'] = preds"
   ]
  },
  {
   "cell_type": "code",
   "execution_count": 93,
   "metadata": {},
   "outputs": [],
   "source": [
    "row_indexer = tmp_df[tmp_df['date']=='2016-4-24'].index\n",
    "tmp_df.loc[row_indexer, 'demand'] = preds"
   ]
  },
  {
   "cell_type": "code",
   "execution_count": null,
   "metadata": {},
   "outputs": [],
   "source": []
  }
 ],
 "metadata": {
  "kernelspec": {
   "display_name": "Python 3",
   "language": "python",
   "name": "python3"
  },
  "language_info": {
   "codemirror_mode": {
    "name": "ipython",
    "version": 3
   },
   "file_extension": ".py",
   "mimetype": "text/x-python",
   "name": "python",
   "nbconvert_exporter": "python",
   "pygments_lexer": "ipython3",
   "version": "3.7.3"
  }
 },
 "nbformat": 4,
 "nbformat_minor": 2
}
